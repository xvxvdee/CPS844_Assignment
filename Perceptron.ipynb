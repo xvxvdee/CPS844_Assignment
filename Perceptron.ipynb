{
  "cells": [
    {
      "cell_type": "code",
      "execution_count": 1,
      "metadata": {},
      "outputs": [],
      "source": [
        "import numpy as np\n",
        "import pandas as pd\n",
        "\n",
        "from sklearn.neural_network import MLPClassifier\n",
        "from sklearn.svm import SVC\n",
        "\n",
        "from sklearn.preprocessing import LabelEncoder, OneHotEncoder, OrdinalEncoder, FunctionTransformer\n",
        "from sklearn.compose import make_column_transformer\n",
        "\n",
        "from sklearn.model_selection import train_test_split\n",
        "from sklearn.pipeline import make_pipeline\n",
        "\n",
        "from sklearn.metrics import accuracy_score\n",
        "\n",
        "from sklearn.compose import ColumnTransformer\n"
      ]
    },
    {
      "cell_type": "code",
      "execution_count": 2,
      "metadata": {},
      "outputs": [],
      "source": [
        "data = pd.read_csv(\"data/ObesityDataSet.csv\")\n",
        "\n",
        "gender = [\"Female\", \"Male\"]\n",
        "frequency = [\"no\", \"Sometimes\", \"Frequently\", \"Always\"]\n",
        "decision = [\"no\", \"yes\"]\n",
        "transport = [\"Walking\", \"Bike\", \"Motorbike\", \"Public_Transportation\", \"Automobile\"]\n",
        "labels = [\"Insufficient_Weight\", \"Normal_Weight\", \"Overweight_Level_I\", \"Overweight_Level_II\", \"Obesity_Type_I\", \"Obesity_Type_II\", \"Obesity_Type_III\"],\n",
        "oe_map = {\n",
        "    \"name\": \"oe\",\n",
        "    \"features\": [\"Gender\", \"family_history_with_overweight\", \"FAVC\", \"SMOKE\", \"SCC\", \"CAEC\", \"CALC\", \"MTRANS\"],\n",
        "    \"categories\": [gender, decision, decision, decision, decision, frequency,frequency, transport]\n",
        "}\n",
        "\n",
        "oe = OrdinalEncoder(categories=oe_map[\"categories\"])\n",
        "ct = ColumnTransformer(\n",
        "    transformers=[\n",
        "        (\"oe\", oe, oe_map[\"features\"])\n",
        "    ], remainder='passthrough', verbose_feature_names_out=False).set_output(transform='pandas')\n",
        "\n",
        "data = ct.fit_transform(data).reindex(data.columns, axis=1)\n",
        "\n",
        "le = LabelEncoder()\n",
        "le.fit(np.array(labels).reshape(-1, 1).ravel())\n",
        "data[\"NObeyesdad\"] = le.transform(data[\"NObeyesdad\"])\n",
        "\n",
        "X = data.drop(\"NObeyesdad\", axis=1)\n",
        "Y = data[\"NObeyesdad\"]\n",
        "\n",
        "\n",
        "def column_inverse_transform(data, transformer, map):\n",
        "    if pd.Series(map[\"features\"]).isin(data.columns).all():\n",
        "        data[map[\"features\"]] = transformer.named_transformers_[\n",
        "            map[\"name\"]].inverse_transform(data[map[\"features\"]])\n",
        "    return data\n",
        "\n",
        "def label_inverse_transform(data, le):\n",
        "    if type(data) == pd.Series:\n",
        "        return le.inverse_transform(data)\n",
        "    if \"NObeyesdad\" in  data.columns:\n",
        "        data[\"NObeyesdad\"] = le.inverse_transform(data[\"NObeyesdad\"])\n",
        "    return data\n"
      ]
    },
    {
      "cell_type": "code",
      "execution_count": 3,
      "metadata": {},
      "outputs": [],
      "source": [
        "data = column_inverse_transform(data, ct, oe_map)\n",
        "data[\"NObeyesdad\"] = label_inverse_transform(data[\"NObeyesdad\"], le)"
      ]
    },
    {
      "cell_type": "code",
      "execution_count": 4,
      "metadata": {},
      "outputs": [],
      "source": [
        "\n",
        "xTrain, xTest, yTrain, yTest = train_test_split(\n",
        "    X, Y, test_size=0.2, random_state=42, stratify=Y)\n"
      ]
    },
    {
      "cell_type": "code",
      "execution_count": 5,
      "metadata": {},
      "outputs": [
        {
          "name": "stdout",
          "output_type": "stream",
          "text": [
            "Neural Network\n",
            "sgd\t=> Accuracy: 63.593380614657214\n",
            "adam\t=> Accuracy: 84.16075650118204\n"
          ]
        }
      ],
      "source": [
        "print(\"Neural Network\")\n",
        "nn_models = [\"sgd\", \"adam\"]\n",
        "for model in nn_models:\n",
        "  clf = MLPClassifier(solver=model, random_state=42, max_iter=10000)\n",
        "  \n",
        "  # clf_pipe = make_pipeline(ct, clf)\n",
        "  # clf_pipe.fit(xTrain,yTrain)\n",
        "  # yPred = clf_pipe.predict(xTest)\n",
        "  \n",
        "  clf.fit(xTrain,yTrain)\n",
        "  yPred = clf.predict(xTest)\n",
        "  accuracy = accuracy_score(yTest, yPred)*100\n",
        "  print(f\"{model}\\t=> Accuracy: {accuracy}\")\n",
        "  \n"
      ]
    },
    {
      "cell_type": "code",
      "execution_count": 6,
      "metadata": {},
      "outputs": [
        {
          "name": "stdout",
          "output_type": "stream",
          "text": [
            "SVM\n",
            "linear\t=> Accuracy: 85.1063829787234\n",
            "rbf\t=> Accuracy: 64.0661938534279\n",
            "sigmoid\t=> Accuracy: 3.309692671394799\n"
          ]
        }
      ],
      "source": [
        "print(\"SVM\")\n",
        "svm_models = [\"linear\", \"rbf\", \"sigmoid\"]\n",
        "for model in svm_models:\n",
        "  clf = SVC(kernel=model, random_state=0)\n",
        "  \n",
        "  # clf_pipe = make_pipeline(ct, clf)\n",
        "  # clf_pipe.fit(xTrain, yTrain)\n",
        "  # yPred = clf_pipe.predict(xTest)\n",
        "\n",
        "  clf.fit(xTrain, yTrain)\n",
        "  yPred = clf.predict(xTest)\n",
        "  accuracy = accuracy_score(yTest, yPred)*100\n",
        "  print(f\"{model}\\t=> Accuracy: {accuracy}\")\n"
      ]
    }
  ],
  "metadata": {
    "kernelspec": {
      "display_name": "Python 3.11.0 64-bit",
      "language": "python",
      "name": "python3"
    },
    "language_info": {
      "codemirror_mode": {
        "name": "ipython",
        "version": 3
      },
      "file_extension": ".py",
      "mimetype": "text/x-python",
      "name": "python",
      "nbconvert_exporter": "python",
      "pygments_lexer": "ipython3",
      "version": "3.11.0"
    },
    "orig_nbformat": 4,
    "vscode": {
      "interpreter": {
        "hash": "aee8b7b246df8f9039afb4144a1f6fd8d2ca17a180786b69acc140d282b71a49"
      }
    }
  },
  "nbformat": 4,
  "nbformat_minor": 2
}
