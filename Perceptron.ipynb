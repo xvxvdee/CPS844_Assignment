{
  "cells": [
    {
      "cell_type": "markdown",
      "metadata": {},
      "source": [
        "### Imports"
      ]
    },
    {
      "cell_type": "code",
      "execution_count": 74,
      "metadata": {},
      "outputs": [],
      "source": [
        "import numpy as np\n",
        "import pandas as pd\n",
        "\n",
        "from sklearn.linear_model import Perceptron\n",
        "from sklearn.neural_network import MLPClassifier\n",
        "from sklearn.model_selection import train_test_split\n",
        "from sklearn.metrics import accuracy_score, classification_report, confusion_matrix\n",
        "from tabulate import tabulate\n",
        "\n",
        "def interpret_confusion_matrix(matrix, labels=None):\n",
        "    information=[]\n",
        "    i=0\n",
        "    for row in matrix:\n",
        "        total = sum(row)\n",
        "        correct = row[i]\n",
        "        \n",
        "        consider = row.tolist() \n",
        "        del consider[i] #remove correctly classified instances\n",
        "\n",
        "        errors = sum(consider)\n",
        "        information.append([labels[i],correct,errors,total]) if labels else information.append([i,correct,errors,total])\n",
        "        i+=1\n",
        "    print(tabulate(information,headers=[\"Class\",\"Correctly Classified\",\"Incorrectly Classified\",\"Total\"]))\n",
        "\n",
        "df = pd.read_csv(\"data/DataEncoded.csv\")"
      ]
    },
    {
      "cell_type": "markdown",
      "metadata": {},
      "source": [
        "### Train Test Split"
      ]
    },
    {
      "cell_type": "code",
      "execution_count": 75,
      "metadata": {},
      "outputs": [],
      "source": [
        "X = df.drop([\"NObeyesdad\"], axis=1)\n",
        "Y = df[\"NObeyesdad\"]\n",
        "\n",
        "xTrain, xTest, yTrain, yTest = train_test_split(X, Y, test_size=0.2, random_state=42, stratify=Y)\n",
        "\n",
        "labels = [\"Insufficient_Weight\", \"Normal_Weight\", \"Overweight_Level_I\", \"Overweight_Level_II\", \"Obesity_Type_I\", \"Obesity_Type_II\", \"Obesity_Type_III\"]"
      ]
    },
    {
      "cell_type": "markdown",
      "metadata": {},
      "source": [
        "### Single Layer Perceptron"
      ]
    },
    {
      "cell_type": "code",
      "execution_count": 76,
      "metadata": {},
      "outputs": [
        {
          "name": "stdout",
          "output_type": "stream",
          "text": [
            "                     precision    recall  f1-score   support\n",
            "\n",
            "Insufficient_Weight       0.80      0.37      0.51        54\n",
            "      Normal_Weight       0.00      0.00      0.00        56\n",
            " Overweight_Level_I       0.00      0.00      0.00        54\n",
            "Overweight_Level_II       0.15      1.00      0.26        50\n",
            "     Obesity_Type_I       0.00      0.00      0.00        56\n",
            "    Obesity_Type_II       0.00      0.00      0.00        53\n",
            "   Obesity_Type_III       0.97      0.48      0.64        65\n",
            "\n",
            "           accuracy                           0.26       388\n",
            "          macro avg       0.27      0.26      0.20       388\n",
            "       weighted avg       0.29      0.26      0.21       388\n",
            "\n",
            "Class                  Correctly Classified    Incorrectly Classified    Total\n",
            "-------------------  ----------------------  ------------------------  -------\n",
            "Insufficient_Weight                      20                        34       54\n",
            "Normal_Weight                             0                        56       56\n",
            "Overweight_Level_I                        0                        54       54\n",
            "Overweight_Level_II                      50                         0       50\n",
            "Obesity_Type_I                            0                        56       56\n",
            "Obesity_Type_II                           0                        53       53\n",
            "Obesity_Type_III                         31                        34       65\n"
          ]
        }
      ],
      "source": [
        "clf = Perceptron(random_state=42)\n",
        "clf.fit(xTrain, yTrain)\n",
        "yPred = clf.predict(xTest)\n",
        "# accuracy = np.round(accuracy_score(yTest, yPred)*100, 2)\n",
        "# print(f\"Single Layer Perceptron:\\nAccuracy: {accuracy}%\")\n",
        "print(classification_report(yTest, yPred, target_names=labels, zero_division=0))\n",
        "interpret_confusion_matrix(confusion_matrix(yTest,yPred), labels)"
      ]
    },
    {
      "cell_type": "markdown",
      "metadata": {},
      "source": [
        "### Multi Layer Perceptron"
      ]
    },
    {
      "cell_type": "markdown",
      "metadata": {},
      "source": [
        "#### Stochastic Gradient Descent"
      ]
    },
    {
      "cell_type": "code",
      "execution_count": 77,
      "metadata": {},
      "outputs": [
        {
          "name": "stdout",
          "output_type": "stream",
          "text": [
            "                     precision    recall  f1-score   support\n",
            "\n",
            "Insufficient_Weight       0.75      0.98      0.85        54\n",
            "      Normal_Weight       0.79      0.20      0.31        56\n",
            " Overweight_Level_I       0.55      0.48      0.51        54\n",
            "Overweight_Level_II       0.33      0.66      0.44        50\n",
            "     Obesity_Type_I       0.46      0.11      0.17        56\n",
            "    Obesity_Type_II       0.76      0.47      0.58        53\n",
            "   Obesity_Type_III       0.59      1.00      0.74        65\n",
            "\n",
            "           accuracy                           0.56       388\n",
            "          macro avg       0.60      0.56      0.52       388\n",
            "       weighted avg       0.61      0.56      0.52       388\n",
            "\n",
            "Class                  Correctly Classified    Incorrectly Classified    Total\n",
            "-------------------  ----------------------  ------------------------  -------\n",
            "Insufficient_Weight                      53                         1       54\n",
            "Normal_Weight                            11                        45       56\n",
            "Overweight_Level_I                       26                        28       54\n",
            "Overweight_Level_II                      33                        17       50\n",
            "Obesity_Type_I                            6                        50       56\n",
            "Obesity_Type_II                          25                        28       53\n",
            "Obesity_Type_III                         65                         0       65\n"
          ]
        }
      ],
      "source": [
        "clf = MLPClassifier(solver=\"sgd\", random_state=42, max_iter=1000)\n",
        "clf.fit(xTrain,yTrain)\n",
        "yPred = clf.predict(xTest)\n",
        "# accuracy = np.round(accuracy_score(yTest, yPred)*100,2)\n",
        "# print(f\"{model}\\t=> Accuracy: {accuracy}%\")\n",
        "print(classification_report(yTest, yPred, target_names=labels, zero_division=0))\n",
        "interpret_confusion_matrix(confusion_matrix(yTest,yPred), labels)\n",
        "\n"
      ]
    },
    {
      "cell_type": "markdown",
      "metadata": {},
      "source": [
        "#### Adam Gradient Descent"
      ]
    },
    {
      "cell_type": "code",
      "execution_count": 78,
      "metadata": {},
      "outputs": [
        {
          "name": "stdout",
          "output_type": "stream",
          "text": [
            "                     precision    recall  f1-score   support\n",
            "\n",
            "Insufficient_Weight       0.86      0.91      0.88        54\n",
            "      Normal_Weight       0.76      0.73      0.75        56\n",
            " Overweight_Level_I       0.78      0.85      0.81        54\n",
            "Overweight_Level_II       0.77      0.60      0.67        50\n",
            "     Obesity_Type_I       0.86      0.86      0.86        56\n",
            "    Obesity_Type_II       0.91      1.00      0.95        53\n",
            "   Obesity_Type_III       1.00      1.00      1.00        65\n",
            "\n",
            "           accuracy                           0.86       388\n",
            "          macro avg       0.85      0.85      0.85       388\n",
            "       weighted avg       0.85      0.86      0.85       388\n",
            "\n",
            "Class                  Correctly Classified    Incorrectly Classified    Total\n",
            "-------------------  ----------------------  ------------------------  -------\n",
            "Insufficient_Weight                      49                         5       54\n",
            "Normal_Weight                            41                        15       56\n",
            "Overweight_Level_I                       46                         8       54\n",
            "Overweight_Level_II                      30                        20       50\n",
            "Obesity_Type_I                           48                         8       56\n",
            "Obesity_Type_II                          53                         0       53\n",
            "Obesity_Type_III                         65                         0       65\n"
          ]
        }
      ],
      "source": [
        "clf = MLPClassifier(solver=\"adam\", random_state=42, max_iter=1000)\n",
        "clf.fit(xTrain,yTrain)\n",
        "yPred = clf.predict(xTest)\n",
        "# accuracy = np.round(accuracy_score(yTest, yPred)*100,2)\n",
        "# print(f\"{model}\\t=> Accuracy: {accuracy}%\")\n",
        "print(classification_report(yTest, yPred, target_names=labels, zero_division=0))\n",
        "interpret_confusion_matrix(confusion_matrix(yTest,yPred), labels)\n",
        "\n"
      ]
    }
  ],
  "metadata": {
    "kernelspec": {
      "display_name": "Python 3.11.0 64-bit",
      "language": "python",
      "name": "python3"
    },
    "language_info": {
      "codemirror_mode": {
        "name": "ipython",
        "version": 3
      },
      "file_extension": ".py",
      "mimetype": "text/x-python",
      "name": "python",
      "nbconvert_exporter": "python",
      "pygments_lexer": "ipython3",
      "version": "3.11.0"
    },
    "orig_nbformat": 4,
    "vscode": {
      "interpreter": {
        "hash": "aee8b7b246df8f9039afb4144a1f6fd8d2ca17a180786b69acc140d282b71a49"
      }
    }
  },
  "nbformat": 4,
  "nbformat_minor": 2
}
