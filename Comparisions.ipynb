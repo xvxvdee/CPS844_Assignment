{
 "cells": [
  {
   "attachments": {},
   "cell_type": "markdown",
   "metadata": {},
   "source": [
    "### Comparing Models"
   ]
  },
  {
   "cell_type": "code",
   "execution_count": 18,
   "metadata": {},
   "outputs": [],
   "source": [
    "import pandas as pd\n",
    "import numpy as np"
   ]
  },
  {
   "cell_type": "code",
   "execution_count": 15,
   "metadata": {},
   "outputs": [],
   "source": [
    "models = [\"Decision Tree (Gini)\",\"Decision Tree(Entropy)\",\"kMeans\",\"kMeans(Feature Selection)\",\"KNN\",\"Linear Regression (Multi-Attribute)\",\"Linear Regression (AdaBoost)\",\"Logistic Regression\",\"Perceptron (Single Layer)\",\"Perceptron (Multi-Layer: SGD)\",\"Perceptron (Multi-Layer: AGD)\",\"Naive Bayes(Guassian)\",\"Naive Bayes(Multinominal)\",\"Naive Bayes(Bernoulli)\"]\n",
    "\n",
    "precision = [0.7829851816940876,0.7604022576916967,0.07209621993127148,0.07209621993127148,0.8661913929811209,0,0,0,0.29, 0.61,0.85,0.6660550063946753,0.6692677416858296,0.5398247092582044]\n",
    "\n",
    "recall = [0.7649484536082474,0.7195876288659794,0.1670103092783505, 0.1670103092783505,0.865979381443299,0,0,0, 0.26, 0.56,0.86,0.6649484536082474,0.6752577319587629,0.5128865979381443]\n",
    "\n",
    "f1 = [0.7641363296430508,0.6795428201583082,0.1006889294463901,0.1006889294463901,0.8602198378587286,0,0,0,0.21,0.52,0.85,0.6497736882727508,0.6671947654022841,0.49097397122872766]\n",
    "\n",
    "cv_score = [0.7723523854511101,0.7366225791213983,-16980.307273009308,-16980.307273009308,0.8638072744449692,0,0,0,0,0,00,0.6408933002481391,0.6563564929693964,0.49194375516956157]\n",
    "\n",
    "accuracy = [0.7649484536082474,0.7195876288659794,0.1670103092783505,0.1670103092783505,0.865979381443299,0,0,0, 0.26, 0.56,0.86,0,0,0]\n",
    "\n",
    "r_sqaured = [0,0,0,0,0,0,95.39,96.15,0,0,0,0,0,0]\n",
    "mse = [0,0,0,0,0,0.19177070292675027,0.1602314849210394,0,0,0,0,0,0,0]\n",
    "\n",
    "mae = [0,0,0,0,0,0.3364362657043986,0.3589776225169127,0,0,0,0,0,0,0]\n",
    "\n",
    "silhouette_coefficient =[0,0,0.03548268531772738,0.5262196555212459,0,0,0,0,0,0,0,0,0,0] "
   ]
  },
  {
   "cell_type": "code",
   "execution_count": 20,
   "metadata": {},
   "outputs": [],
   "source": [
    "model_information = pd.DataFrame(\n",
    "    {\n",
    "        \"Model\":models,\n",
    "        \"Cross Validation Score\":cv_score,\n",
    "        \"Precision\":precision,\n",
    "        \"Recall\":recall,\n",
    "        \"F1 Score\":f1,\n",
    "        \"Accuracy\":accuracy,\n",
    "        \"R squared value\":r_sqaured,\n",
    "        \"MSE\":mse,\n",
    "        \"MAE\":mae,\n",
    "        \"Silhouette Coefficient\":silhouette_coefficient\n",
    "    }\n",
    ")"
   ]
  },
  {
   "cell_type": "code",
   "execution_count": 22,
   "metadata": {},
   "outputs": [],
   "source": [
    "model_information.to_csv(\"data/Data_ModelInformation.csv\",index=False)"
   ]
  }
 ],
 "metadata": {
  "kernelspec": {
   "display_name": "Python 3",
   "language": "python",
   "name": "python3"
  },
  "language_info": {
   "codemirror_mode": {
    "name": "ipython",
    "version": 3
   },
   "file_extension": ".py",
   "mimetype": "text/x-python",
   "name": "python",
   "nbconvert_exporter": "python",
   "pygments_lexer": "ipython3",
   "version": "3.10.10"
  },
  "orig_nbformat": 4,
  "vscode": {
   "interpreter": {
    "hash": "729903d8605f3711f162f2deb8ff557356f0f611eb1f3f8fa4a18667556a000a"
   }
  }
 },
 "nbformat": 4,
 "nbformat_minor": 2
}
