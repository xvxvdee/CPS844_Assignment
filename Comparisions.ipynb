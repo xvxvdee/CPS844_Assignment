{
 "cells": [
  {
   "attachments": {},
   "cell_type": "markdown",
   "metadata": {},
   "source": [
    "### Comparing Models"
   ]
  },
  {
   "cell_type": "code",
   "execution_count": 18,
   "metadata": {},
   "outputs": [],
   "source": [
    "import pandas as pd\n",
    "import numpy as np"
   ]
  },
  {
   "cell_type": "code",
   "execution_count": 15,
   "metadata": {},
   "outputs": [],
   "source": [
    "models = [\"Decision Tree (Gini)\",\"Decision Tree(Entropy)\",\"kMeans\",\"kMeans(Feature Selection)\",\"KNN\",\"Linear Regression (Multi-Attribute)\",\"Linear Regression (AdaBoost)\",\"Logistic Regression\",\"Perceptron (Single Layer)\",\"Perceptron (Multi-Layer: SGD)\",\"Perceptron (Multi-Layer: AGD)\",\"Naive Bayes(Guassian)\",\"Naive Bayes(Multinominal)\",\"Naive Bayes(Bernoulli)\"]\n",
    "\n",
    "precision = [0.7829851816940876,0.7604022576916967,0.07209621993127148,0.07209621993127148,0.8661913929811209,0,0,0.8328990914750829,0.8575299486872021,0.6054371090408768,0.8529222654887855,0.6660550063946753,0.6692677416858296,0.5398247092582044]\n",
    "\n",
    "recall = [0.7649484536082474,0.7195876288659794,0.1670103092783505, 0.1670103092783505,0.865979381443299,0,0,0.8350515463917526,0.2603092783505155,0.5644329896907216,0.8556701030927835,0.6649484536082474,0.6752577319587629,0.5128865979381443]\n",
    "\n",
    "f1 = [0.7641363296430508,0.6795428201583082,0.1006889294463901,0.1006889294463901,0.8602198378587286,0,0,0.831787103826362,0.21136990588796015,0.5203764916604371,0.8523355921963754,0.6497736882727508,0.6671947654022841,0.49097397122872766]\n",
    "\n",
    "cv_score = [0.7723523854511101,0.7366225791213983,-16980.307273009308,-16980.307273009308,0.8638072744449692,0,0,0.8317245657568237,0.3688751033912324,0.6396153846153846,0.8175227460711332,0.6408933002481391,0.6563564929693964,0.49194375516956157]\n",
    "\n",
    "accuracy = [0.7649484536082474,0.7195876288659794,0.1670103092783505,0.1670103092783505,0.865979381443299,0,0,0.8350515463917526,0.2603092783505155,0.5644329896907216,0.8556701030927835,0.6649484536082474,0.6752577319587629,0.5128865979381443]\n",
    "\n",
    "r_sqaured = [0,0,0,0,0,95.39,96.15,0,0,0,0,0,0,0]\n",
    "mse = [0,0,0,0,0,0.19177070292675027,0.1602314849210394,0,0,0,0,0,0,0]\n",
    "\n",
    "mae = [0,0,0,0,0,0.3364362657043986,0.3589776225169127,0,0,0,0,0,0,0]\n",
    "\n",
    "silhouette_coefficient =[0,0,0.03548268531772738,0.5262196555212459,0.035482685317727185,0,0,0,0,0,0,0,0,0] "
   ]
  },
  {
   "cell_type": "code",
   "execution_count": 20,
   "metadata": {},
   "outputs": [],
   "source": [
    "model_information = pd.DataFrame(\n",
    "    {\n",
    "        \"Model\":models,\n",
    "        \"Cross Validation Score\":cv_score,\n",
    "        \"Precision\":precision,\n",
    "        \"Recall\":recall,\n",
    "        \"F1 Score\":f1,\n",
    "        \"Accuracy\":accuracy,\n",
    "        \"R squared value\":r_sqaured,\n",
    "        \"MSE\":mse,\n",
    "        \"MAE\":mae,\n",
    "        \"Silhouette Coefficient\":silhouette_coefficient\n",
    "    }\n",
    ")"
   ]
  },
  {
   "cell_type": "code",
   "execution_count": 22,
   "metadata": {},
   "outputs": [],
   "source": [
    "model_information.to_csv(\"data/Data_ModelInformation.csv\",index=False)"
   ]
  }
 ],
 "metadata": {
  "kernelspec": {
   "display_name": "Python 3.11.0 64-bit",
   "language": "python",
   "name": "python3"
  },
  "language_info": {
   "codemirror_mode": {
    "name": "ipython",
    "version": 3
   },
   "file_extension": ".py",
   "mimetype": "text/x-python",
   "name": "python",
   "nbconvert_exporter": "python",
   "pygments_lexer": "ipython3",
   "version": "3.11.0"
  },
  "orig_nbformat": 4,
  "vscode": {
   "interpreter": {
    "hash": "aee8b7b246df8f9039afb4144a1f6fd8d2ca17a180786b69acc140d282b71a49"
   }
  }
 },
 "nbformat": 4,
 "nbformat_minor": 2
}
